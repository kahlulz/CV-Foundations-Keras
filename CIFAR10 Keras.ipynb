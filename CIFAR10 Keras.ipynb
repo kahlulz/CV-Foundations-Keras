{
 "cells": [
  {
   "cell_type": "code",
   "execution_count": 1,
   "id": "377dcfcd",
   "metadata": {},
   "outputs": [],
   "source": [
    "import numpy as np\n",
    "import tensorflow as tf\n",
    "from keras.models import Sequential\n",
    "from keras.layers import Dense, Activation, Dropout\n",
    "from tensorflow.keras.utils import to_categorical, plot_model\n",
    "from keras.datasets import cifar10"
   ]
  },
  {
   "cell_type": "code",
   "execution_count": 2,
   "id": "b49d0463",
   "metadata": {},
   "outputs": [],
   "source": [
    "(x_train, y_train),(x_test, y_test) = cifar10.load_data()"
   ]
  },
  {
   "cell_type": "code",
   "execution_count": 3,
   "id": "ef23d007",
   "metadata": {},
   "outputs": [
    {
     "data": {
      "text/plain": [
       "array([0, 1, 2, 3, 4, 5, 6, 7, 8, 9], dtype=uint8)"
      ]
     },
     "execution_count": 3,
     "metadata": {},
     "output_type": "execute_result"
    }
   ],
   "source": [
    "num_labels = len(np.unique(y_train))\n",
    "num_labels\n",
    "np.unique(y_train)"
   ]
  },
  {
   "cell_type": "code",
   "execution_count": 4,
   "id": "5bb8f43f",
   "metadata": {},
   "outputs": [],
   "source": [
    "y_train = to_categorical(y_train)\n",
    "y_test = to_categorical(y_test)"
   ]
  },
  {
   "cell_type": "code",
   "execution_count": 5,
   "id": "728863a5",
   "metadata": {},
   "outputs": [],
   "source": [
    "image_size = x_train.shape[1]\n",
    "input_size = image_size * image_size * 3"
   ]
  },
  {
   "cell_type": "code",
   "execution_count": 6,
   "id": "bf15436c",
   "metadata": {},
   "outputs": [],
   "source": [
    "x_train = np.reshape(x_train, [-1, input_size]) #Flatten Manually\n",
    "x_train = x_train.astype('float32')/255 #Normalize\n",
    "x_test = np.reshape(x_test, [-1, input_size])\n",
    "x_test = x_test.astype('float32')/255"
   ]
  },
  {
   "cell_type": "code",
   "execution_count": 7,
   "id": "3b2cd28f",
   "metadata": {},
   "outputs": [],
   "source": [
    "batch_size = 128 #Arbitrary 2^n\n",
    "hidden_units = 256 \n",
    "dropout = 0.45"
   ]
  },
  {
   "cell_type": "code",
   "execution_count": 8,
   "id": "b14dd6ef",
   "metadata": {},
   "outputs": [
    {
     "name": "stdout",
     "output_type": "stream",
     "text": [
      "Model: \"sequential\"\n",
      "_________________________________________________________________\n",
      " Layer (type)                Output Shape              Param #   \n",
      "=================================================================\n",
      " dense (Dense)               (None, 256)               786688    \n",
      "                                                                 \n",
      " activation (Activation)     (None, 256)               0         \n",
      "                                                                 \n",
      " dense_1 (Dense)             (None, 256)               65792     \n",
      "                                                                 \n",
      " activation_1 (Activation)   (None, 256)               0         \n",
      "                                                                 \n",
      " dense_2 (Dense)             (None, 10)                2570      \n",
      "                                                                 \n",
      " activation_2 (Activation)   (None, 10)                0         \n",
      "                                                                 \n",
      "=================================================================\n",
      "Total params: 855,050\n",
      "Trainable params: 855,050\n",
      "Non-trainable params: 0\n",
      "_________________________________________________________________\n"
     ]
    }
   ],
   "source": [
    "#with tf.device('/device:GPU:0'):\n",
    "\n",
    "model = Sequential()\n",
    "model.add(Dense(hidden_units, input_dim = input_size))\n",
    "model.add(Activation('relu'))\n",
    "\n",
    "model.add(Dense(hidden_units))\n",
    "model.add(Activation('relu'))\n",
    "\n",
    "model.add(Dense(num_labels))\n",
    "\n",
    "model.add(Activation('softmax'))\n",
    "model.summary()"
   ]
  },
  {
   "cell_type": "code",
   "execution_count": 9,
   "id": "e626a3e2",
   "metadata": {},
   "outputs": [],
   "source": [
    "model.compile(\n",
    "    loss = 'categorical_crossentropy',\n",
    "    optimizer = 'adam',\n",
    "    metrics = ['accuracy']\n",
    ")"
   ]
  },
  {
   "cell_type": "code",
   "execution_count": 10,
   "id": "b2d50c28",
   "metadata": {},
   "outputs": [
    {
     "name": "stderr",
     "output_type": "stream",
     "text": [
      "2023-07-19 15:58:34.153567: W tensorflow/core/framework/cpu_allocator_impl.cc:82] Allocation of 614400000 exceeds 10% of free system memory.\n",
      "2023-07-19 15:58:35.099062: W tensorflow/core/framework/cpu_allocator_impl.cc:82] Allocation of 614400000 exceeds 10% of free system memory.\n"
     ]
    },
    {
     "name": "stdout",
     "output_type": "stream",
     "text": [
      "Epoch 1/40\n",
      "391/391 [==============================] - 3s 4ms/step - loss: 1.8767 - accuracy: 0.3259\n",
      "Epoch 2/40\n",
      "391/391 [==============================] - 2s 4ms/step - loss: 1.6814 - accuracy: 0.4018\n",
      "Epoch 3/40\n",
      "391/391 [==============================] - 2s 5ms/step - loss: 1.5968 - accuracy: 0.4299\n",
      "Epoch 4/40\n",
      "391/391 [==============================] - 2s 4ms/step - loss: 1.5486 - accuracy: 0.4466\n",
      "Epoch 5/40\n",
      "391/391 [==============================] - 2s 4ms/step - loss: 1.5025 - accuracy: 0.4651\n",
      "Epoch 6/40\n",
      "391/391 [==============================] - 2s 4ms/step - loss: 1.4694 - accuracy: 0.4758\n",
      "Epoch 7/40\n",
      "391/391 [==============================] - 2s 4ms/step - loss: 1.4436 - accuracy: 0.4855\n",
      "Epoch 8/40\n",
      "391/391 [==============================] - 2s 4ms/step - loss: 1.4123 - accuracy: 0.4985\n",
      "Epoch 9/40\n",
      "391/391 [==============================] - 2s 4ms/step - loss: 1.3974 - accuracy: 0.5041\n",
      "Epoch 10/40\n",
      "391/391 [==============================] - 2s 5ms/step - loss: 1.3607 - accuracy: 0.5179\n",
      "Epoch 11/40\n",
      "391/391 [==============================] - 2s 4ms/step - loss: 1.3445 - accuracy: 0.5220\n",
      "Epoch 12/40\n",
      "391/391 [==============================] - 2s 4ms/step - loss: 1.3190 - accuracy: 0.5313\n",
      "Epoch 13/40\n",
      "391/391 [==============================] - 2s 4ms/step - loss: 1.3059 - accuracy: 0.5369\n",
      "Epoch 14/40\n",
      "391/391 [==============================] - 2s 4ms/step - loss: 1.2856 - accuracy: 0.5412\n",
      "Epoch 15/40\n",
      "391/391 [==============================] - 2s 4ms/step - loss: 1.2703 - accuracy: 0.5485\n",
      "Epoch 16/40\n",
      "391/391 [==============================] - 2s 4ms/step - loss: 1.2588 - accuracy: 0.5545\n",
      "Epoch 17/40\n",
      "391/391 [==============================] - 2s 4ms/step - loss: 1.2398 - accuracy: 0.5591\n",
      "Epoch 18/40\n",
      "391/391 [==============================] - 2s 4ms/step - loss: 1.2299 - accuracy: 0.5636\n",
      "Epoch 19/40\n",
      "391/391 [==============================] - 2s 4ms/step - loss: 1.2180 - accuracy: 0.5661\n",
      "Epoch 20/40\n",
      "391/391 [==============================] - 2s 4ms/step - loss: 1.2036 - accuracy: 0.5708\n",
      "Epoch 21/40\n",
      "391/391 [==============================] - 2s 4ms/step - loss: 1.1841 - accuracy: 0.5789\n",
      "Epoch 22/40\n",
      "391/391 [==============================] - 2s 4ms/step - loss: 1.1708 - accuracy: 0.5848\n",
      "Epoch 23/40\n",
      "391/391 [==============================] - 2s 4ms/step - loss: 1.1650 - accuracy: 0.5864\n",
      "Epoch 24/40\n",
      "391/391 [==============================] - 2s 4ms/step - loss: 1.1549 - accuracy: 0.5883\n",
      "Epoch 25/40\n",
      "391/391 [==============================] - 2s 4ms/step - loss: 1.1416 - accuracy: 0.5951\n",
      "Epoch 26/40\n",
      "391/391 [==============================] - 2s 4ms/step - loss: 1.1296 - accuracy: 0.5959\n",
      "Epoch 27/40\n",
      "391/391 [==============================] - 2s 4ms/step - loss: 1.1235 - accuracy: 0.6009\n",
      "Epoch 28/40\n",
      "391/391 [==============================] - 1s 4ms/step - loss: 1.1092 - accuracy: 0.6049\n",
      "Epoch 29/40\n",
      "391/391 [==============================] - 2s 5ms/step - loss: 1.0991 - accuracy: 0.6082\n",
      "Epoch 30/40\n",
      "391/391 [==============================] - 2s 4ms/step - loss: 1.0922 - accuracy: 0.6097\n",
      "Epoch 31/40\n",
      "391/391 [==============================] - 2s 4ms/step - loss: 1.0825 - accuracy: 0.6155\n",
      "Epoch 32/40\n",
      "391/391 [==============================] - 2s 4ms/step - loss: 1.0763 - accuracy: 0.6143\n",
      "Epoch 33/40\n",
      "391/391 [==============================] - 2s 4ms/step - loss: 1.0650 - accuracy: 0.6196\n",
      "Epoch 34/40\n",
      "391/391 [==============================] - 2s 4ms/step - loss: 1.0537 - accuracy: 0.6237\n",
      "Epoch 35/40\n",
      "391/391 [==============================] - 2s 4ms/step - loss: 1.0458 - accuracy: 0.6255\n",
      "Epoch 36/40\n",
      "391/391 [==============================] - 2s 4ms/step - loss: 1.0461 - accuracy: 0.6256\n",
      "Epoch 37/40\n",
      "391/391 [==============================] - 2s 4ms/step - loss: 1.0274 - accuracy: 0.6328\n",
      "Epoch 38/40\n",
      "391/391 [==============================] - 2s 5ms/step - loss: 1.0226 - accuracy: 0.6332\n",
      "Epoch 39/40\n",
      "391/391 [==============================] - 2s 4ms/step - loss: 1.0210 - accuracy: 0.6347\n",
      "Epoch 40/40\n",
      "391/391 [==============================] - 2s 4ms/step - loss: 1.0185 - accuracy: 0.6384\n"
     ]
    }
   ],
   "source": [
    "history = model.fit(x_train, y_train, epochs = 40, batch_size = batch_size)"
   ]
  },
  {
   "cell_type": "code",
   "execution_count": 11,
   "id": "721efe48",
   "metadata": {},
   "outputs": [
    {
     "name": "stderr",
     "output_type": "stream",
     "text": [
      "Matplotlib is building the font cache; this may take a moment.\n"
     ]
    },
    {
     "data": {
      "image/png": "[encoded data removed]",
      "text/plain": [
       "<Figure size 432x288 with 1 Axes>"
      ]
     },
     "metadata": {
      "needs_background": "light"
     },
     "output_type": "display_data"
    }
   ],
   "source": [
    "import matplotlib.pyplot as plt\n",
    "\n",
    "plt.plot(history.history['loss'])\n",
    "plt.title('Model Loss')\n",
    "plt.ylabel('Loss')\n",
    "plt.xlabel('Epoch')\n",
    "plt.legend(['train','val'],loc='upper left')\n",
    "plt.show()"
   ]
  },
  {
   "cell_type": "code",
   "execution_count": null,
   "id": "7587a618",
   "metadata": {},
   "outputs": [],
   "source": []
  }
 ],
 "metadata": {
  "kernelspec": {
   "display_name": "Python 3 (ipykernel)",
   "language": "python",
   "name": "python3"
  },
  "language_info": {
   "codemirror_mode": {
    "name": "ipython",
    "version": 3
   },
   "file_extension": ".py",
   "mimetype": "text/x-python",
   "name": "python",
   "nbconvert_exporter": "python",
   "pygments_lexer": "ipython3",
   "version": "3.9.7"
  }
 },
 "nbformat": 4,
 "nbformat_minor": 5
}
