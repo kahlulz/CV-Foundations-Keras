{
 "cells": [
  {
   "cell_type": "markdown",
   "id": "116d92d5",
   "metadata": {},
   "source": [
    "# CIFAR100 CNN Keras Sequential\n",
    "## Setup"
   ]
  },
  {
   "cell_type": "code",
   "execution_count": 4,
   "id": "b229ce54",
   "metadata": {},
   "outputs": [],
   "source": [
    "import numpy as np\n",
    "import matplotlib.pyplot as plt\n",
    "import tensorflow as tf\n",
    "from tensorflow import keras\n",
    "from tensorflow.keras.models import Sequential\n",
    "from keras.layers import Input, Flatten, Dense, Activation, Dropout, Conv2D, MaxPooling2D, BatchNormalization\n",
    "from tensorflow.keras.utils import to_categorical, plot_model\n",
    "from tensorflow.keras.datasets import cifar100"
   ]
  },
  {
   "cell_type": "markdown",
   "id": "a04d7593",
   "metadata": {},
   "source": [
    "## Load CIFAR100 Dataset"
   ]
  },
  {
   "cell_type": "code",
   "execution_count": 5,
   "id": "fe086352",
   "metadata": {},
   "outputs": [],
   "source": [
    "(x_train, y_train),(x_test, y_test) = cifar100.load_data()"
   ]
  },
  {
   "cell_type": "markdown",
   "id": "bb95d989",
   "metadata": {},
   "source": [
    "## Check number of categories present in the dataset"
   ]
  },
  {
   "cell_type": "code",
   "execution_count": 6,
   "id": "2cf0733f",
   "metadata": {},
   "outputs": [
    {
     "data": {
      "text/plain": [
       "100"
      ]
     },
     "execution_count": 6,
     "metadata": {},
     "output_type": "execute_result"
    }
   ],
   "source": [
    "num_labels = len(np.unique(y_train))\n",
    "num_labels"
   ]
  },
  {
   "cell_type": "markdown",
   "id": "ae3dc25a",
   "metadata": {},
   "source": [
    "## Convert categories to one-hot vectors"
   ]
  },
  {
   "cell_type": "code",
   "execution_count": 7,
   "id": "ffd59383",
   "metadata": {},
   "outputs": [],
   "source": [
    "y_train = to_categorical(y_train)\n",
    "y_test = to_categorical(y_test)"
   ]
  },
  {
   "cell_type": "markdown",
   "id": "ca1a5a30",
   "metadata": {},
   "source": [
    "## Normalize"
   ]
  },
  {
   "cell_type": "code",
   "execution_count": 8,
   "id": "94bdb6b9",
   "metadata": {},
   "outputs": [],
   "source": [
    "image_size = x_train.shape[1]\n",
    "input_size = image_size * image_size * 3\n",
    "# Normalize\n",
    "x_train = x_train.astype('float32')/255\n",
    "x_test = x_test.astype('float32')/255"
   ]
  },
  {
   "cell_type": "markdown",
   "id": "32738dc3",
   "metadata": {},
   "source": [
    "## Set Hyperparameters"
   ]
  },
  {
   "cell_type": "code",
   "execution_count": 9,
   "id": "8c512bca",
   "metadata": {},
   "outputs": [],
   "source": [
    "batch_size = 64 # Arbitrary 2^n\n",
    "hidden_units = 128\n",
    "dropout = 0.5 # Determines the probability of allowing signals to go through an activation layer"
   ]
  },
  {
   "cell_type": "markdown",
   "id": "26c48415",
   "metadata": {},
   "source": [
    "## Build Model"
   ]
  },
  {
   "cell_type": "code",
   "execution_count": 10,
   "id": "8027dfe1",
   "metadata": {},
   "outputs": [
    {
     "name": "stdout",
     "output_type": "stream",
     "text": [
      "Model: \"sequential\"\n",
      "_________________________________________________________________\n",
      " Layer (type)                Output Shape              Param #   \n",
      "=================================================================\n",
      " conv2d (Conv2D)             (None, 32, 32, 64)        1792      \n",
      "                                                                 \n",
      " activation (Activation)     (None, 32, 32, 64)        0         \n",
      "                                                                 \n",
      " batch_normalization (BatchN  (None, 32, 32, 64)       256       \n",
      " ormalization)                                                   \n",
      "                                                                 \n",
      " conv2d_1 (Conv2D)           (None, 32, 32, 64)        36928     \n",
      "                                                                 \n",
      " activation_1 (Activation)   (None, 32, 32, 64)        0         \n",
      "                                                                 \n",
      " batch_normalization_1 (Batc  (None, 32, 32, 64)       256       \n",
      " hNormalization)                                                 \n",
      "                                                                 \n",
      " max_pooling2d (MaxPooling2D  (None, 16, 16, 64)       0         \n",
      " )                                                               \n",
      "                                                                 \n",
      " dropout (Dropout)           (None, 16, 16, 64)        0         \n",
      "                                                                 \n",
      " conv2d_2 (Conv2D)           (None, 16, 16, 128)       73856     \n",
      "                                                                 \n",
      " activation_2 (Activation)   (None, 16, 16, 128)       0         \n",
      "                                                                 \n",
      " batch_normalization_2 (Batc  (None, 16, 16, 128)      512       \n",
      " hNormalization)                                                 \n",
      "                                                                 \n",
      " conv2d_3 (Conv2D)           (None, 16, 16, 128)       147584    \n",
      "                                                                 \n",
      " activation_3 (Activation)   (None, 16, 16, 128)       0         \n",
      "                                                                 \n",
      " batch_normalization_3 (Batc  (None, 16, 16, 128)      512       \n",
      " hNormalization)                                                 \n",
      "                                                                 \n",
      " max_pooling2d_1 (MaxPooling  (None, 8, 8, 128)        0         \n",
      " 2D)                                                             \n",
      "                                                                 \n",
      " dropout_1 (Dropout)         (None, 8, 8, 128)         0         \n",
      "                                                                 \n",
      " conv2d_4 (Conv2D)           (None, 8, 8, 256)         295168    \n",
      "                                                                 \n",
      " activation_4 (Activation)   (None, 8, 8, 256)         0         \n",
      "                                                                 \n",
      " batch_normalization_4 (Batc  (None, 8, 8, 256)        1024      \n",
      " hNormalization)                                                 \n",
      "                                                                 \n",
      " conv2d_5 (Conv2D)           (None, 8, 8, 256)         590080    \n",
      "                                                                 \n",
      " activation_5 (Activation)   (None, 8, 8, 256)         0         \n",
      "                                                                 \n",
      " batch_normalization_5 (Batc  (None, 8, 8, 256)        1024      \n",
      " hNormalization)                                                 \n",
      "                                                                 \n",
      " max_pooling2d_2 (MaxPooling  (None, 4, 4, 256)        0         \n",
      " 2D)                                                             \n",
      "                                                                 \n",
      " dropout_2 (Dropout)         (None, 4, 4, 256)         0         \n",
      "                                                                 \n",
      " flatten (Flatten)           (None, 4096)              0         \n",
      "                                                                 \n",
      " dense (Dense)               (None, 128)               524416    \n",
      "                                                                 \n",
      " activation_6 (Activation)   (None, 128)               0         \n",
      "                                                                 \n",
      " batch_normalization_6 (Batc  (None, 128)              512       \n",
      " hNormalization)                                                 \n",
      "                                                                 \n",
      " dropout_3 (Dropout)         (None, 128)               0         \n",
      "                                                                 \n",
      " dense_1 (Dense)             (None, 100)               12900     \n",
      "                                                                 \n",
      " activation_7 (Activation)   (None, 100)               0         \n",
      "                                                                 \n",
      "=================================================================\n",
      "Total params: 1,686,820\n",
      "Trainable params: 1,684,772\n",
      "Non-trainable params: 2,048\n",
      "_________________________________________________________________\n"
     ]
    }
   ],
   "source": [
    "model = Sequential()\n",
    "model.add(Conv2D(64, 3, padding='same', input_shape=(image_size, image_size, 3)))\n",
    "model.add(Activation('relu'))\n",
    "model.add(BatchNormalization())\n",
    "model.add(Conv2D(64, 3, padding='same'))\n",
    "model.add(Activation('relu'))\n",
    "model.add(BatchNormalization())\n",
    "model.add(MaxPooling2D(2))\n",
    "model.add(Dropout(0.5))\n",
    "\n",
    "model.add(Conv2D(128, 3, padding='same'))\n",
    "model.add(Activation('relu'))\n",
    "model.add(BatchNormalization())\n",
    "model.add(Conv2D(128, 3, padding='same'))\n",
    "model.add(Activation('relu'))\n",
    "model.add(BatchNormalization())\n",
    "model.add(MaxPooling2D(2))\n",
    "model.add(Dropout(0.5))\n",
    "\n",
    "model.add(Conv2D(256, 3, padding='same'))\n",
    "model.add(Activation('relu'))\n",
    "model.add(BatchNormalization())\n",
    "model.add(Conv2D(256, 3, padding='same'))\n",
    "model.add(Activation('relu'))\n",
    "model.add(BatchNormalization())\n",
    "model.add(MaxPooling2D(2))\n",
    "model.add(Dropout(0.5))\n",
    "\n",
    "model.add(Flatten())\n",
    "model.add(Dense(hidden_units))\n",
    "model.add(Activation('relu'))\n",
    "model.add(BatchNormalization())\n",
    "model.add(Dropout(0.5))\n",
    "\n",
    "model.add(Dense(num_labels))\n",
    "model.add(Activation('softmax'))\n",
    "model.summary()"
   ]
  },
  {
   "cell_type": "markdown",
   "id": "8207c882",
   "metadata": {},
   "source": [
    "## Train Data"
   ]
  },
  {
   "cell_type": "code",
   "execution_count": 11,
   "id": "3dffc0fc",
   "metadata": {},
   "outputs": [],
   "source": [
    "model.compile(\n",
    "    loss = 'categorical_crossentropy',\n",
    "    optimizer = 'adam',\n",
    "    metrics = ['accuracy']\n",
    ")"
   ]
  },
  {
   "cell_type": "code",
   "execution_count": 12,
   "id": "3f702f52",
   "metadata": {},
   "outputs": [
    {
     "name": "stdout",
     "output_type": "stream",
     "text": [
      "Epoch 1/40\n",
      "782/782 [==============================] - 14s 15ms/step - loss: 4.0898 - accuracy: 0.0920 - val_loss: 3.5155 - val_accuracy: 0.1678\n",
      "Epoch 2/40\n",
      "782/782 [==============================] - 11s 14ms/step - loss: 3.2835 - accuracy: 0.2006 - val_loss: 2.8223 - val_accuracy: 0.2933\n",
      "Epoch 3/40\n",
      "782/782 [==============================] - 11s 14ms/step - loss: 2.8200 - accuracy: 0.2856 - val_loss: 2.5230 - val_accuracy: 0.3455\n",
      "Epoch 4/40\n",
      "782/782 [==============================] - 11s 14ms/step - loss: 2.5615 - accuracy: 0.3391 - val_loss: 2.1669 - val_accuracy: 0.4192\n",
      "Epoch 5/40\n",
      "782/782 [==============================] - 11s 14ms/step - loss: 2.3748 - accuracy: 0.3769 - val_loss: 2.0543 - val_accuracy: 0.4395\n",
      "Epoch 6/40\n",
      "782/782 [==============================] - 11s 14ms/step - loss: 2.2317 - accuracy: 0.4072 - val_loss: 2.0126 - val_accuracy: 0.4556\n",
      "Epoch 7/40\n",
      "782/782 [==============================] - 11s 14ms/step - loss: 2.1159 - accuracy: 0.4316 - val_loss: 2.0536 - val_accuracy: 0.4439\n",
      "Epoch 8/40\n",
      "782/782 [==============================] - 11s 14ms/step - loss: 2.0225 - accuracy: 0.4539 - val_loss: 1.7882 - val_accuracy: 0.5036\n",
      "Epoch 9/40\n",
      "782/782 [==============================] - 11s 14ms/step - loss: 1.9402 - accuracy: 0.4718 - val_loss: 1.7936 - val_accuracy: 0.5063\n",
      "Epoch 10/40\n",
      "782/782 [==============================] - 11s 14ms/step - loss: 1.8708 - accuracy: 0.4859 - val_loss: 1.7676 - val_accuracy: 0.5123\n",
      "Epoch 11/40\n",
      "782/782 [==============================] - 11s 14ms/step - loss: 1.8046 - accuracy: 0.5007 - val_loss: 1.7411 - val_accuracy: 0.5172\n",
      "Epoch 12/40\n",
      "782/782 [==============================] - 11s 14ms/step - loss: 1.7470 - accuracy: 0.5152 - val_loss: 1.7134 - val_accuracy: 0.5303\n",
      "Epoch 13/40\n",
      "782/782 [==============================] - 11s 14ms/step - loss: 1.7065 - accuracy: 0.5217 - val_loss: 1.5982 - val_accuracy: 0.5522\n",
      "Epoch 14/40\n",
      "782/782 [==============================] - 11s 14ms/step - loss: 1.6549 - accuracy: 0.5394 - val_loss: 1.5802 - val_accuracy: 0.5626\n",
      "Epoch 15/40\n",
      "782/782 [==============================] - 11s 14ms/step - loss: 1.6223 - accuracy: 0.5455 - val_loss: 1.5206 - val_accuracy: 0.5790\n",
      "Epoch 16/40\n",
      "782/782 [==============================] - 11s 14ms/step - loss: 1.5835 - accuracy: 0.5546 - val_loss: 1.5398 - val_accuracy: 0.5767\n",
      "Epoch 17/40\n",
      "782/782 [==============================] - 11s 14ms/step - loss: 1.5412 - accuracy: 0.5665 - val_loss: 1.5100 - val_accuracy: 0.5845\n",
      "Epoch 18/40\n",
      "782/782 [==============================] - 11s 14ms/step - loss: 1.5187 - accuracy: 0.5715 - val_loss: 1.7673 - val_accuracy: 0.5318\n",
      "Epoch 19/40\n",
      "782/782 [==============================] - 10s 13ms/step - loss: 1.4867 - accuracy: 0.5790 - val_loss: 1.5804 - val_accuracy: 0.5738\n",
      "Epoch 20/40\n",
      "782/782 [==============================] - 11s 14ms/step - loss: 1.4504 - accuracy: 0.5863 - val_loss: 1.4941 - val_accuracy: 0.5890\n",
      "Epoch 21/40\n",
      "782/782 [==============================] - 11s 14ms/step - loss: 1.4357 - accuracy: 0.5880 - val_loss: 1.4595 - val_accuracy: 0.5916\n",
      "Epoch 22/40\n",
      "782/782 [==============================] - 11s 14ms/step - loss: 1.4059 - accuracy: 0.5978 - val_loss: 1.4635 - val_accuracy: 0.5982\n",
      "Epoch 23/40\n",
      "782/782 [==============================] - 11s 14ms/step - loss: 1.3791 - accuracy: 0.6040 - val_loss: 1.4312 - val_accuracy: 0.5989\n",
      "Epoch 24/40\n",
      "782/782 [==============================] - 11s 14ms/step - loss: 1.3599 - accuracy: 0.6078 - val_loss: 1.4190 - val_accuracy: 0.6135\n",
      "Epoch 25/40\n",
      "782/782 [==============================] - 11s 14ms/step - loss: 1.3306 - accuracy: 0.6163 - val_loss: 1.4183 - val_accuracy: 0.6086\n",
      "Epoch 26/40\n",
      "782/782 [==============================] - 11s 14ms/step - loss: 1.3119 - accuracy: 0.6234 - val_loss: 1.4371 - val_accuracy: 0.6092\n",
      "Epoch 27/40\n",
      "782/782 [==============================] - 11s 14ms/step - loss: 1.3006 - accuracy: 0.6239 - val_loss: 1.4927 - val_accuracy: 0.5992\n",
      "Epoch 28/40\n",
      "782/782 [==============================] - 11s 14ms/step - loss: 1.2746 - accuracy: 0.6297 - val_loss: 1.3873 - val_accuracy: 0.6147\n",
      "Epoch 29/40\n",
      "782/782 [==============================] - 11s 14ms/step - loss: 1.2437 - accuracy: 0.6368 - val_loss: 1.5661 - val_accuracy: 0.5894\n",
      "Epoch 30/40\n",
      "782/782 [==============================] - 11s 14ms/step - loss: 1.2363 - accuracy: 0.6412 - val_loss: 1.4576 - val_accuracy: 0.6080\n",
      "Epoch 31/40\n",
      "782/782 [==============================] - 11s 14ms/step - loss: 1.2203 - accuracy: 0.6418 - val_loss: 1.4433 - val_accuracy: 0.6119\n",
      "Epoch 32/40\n",
      "782/782 [==============================] - 11s 14ms/step - loss: 1.2040 - accuracy: 0.6497 - val_loss: 1.4749 - val_accuracy: 0.6028\n",
      "Epoch 33/40\n",
      "782/782 [==============================] - 11s 14ms/step - loss: 1.1874 - accuracy: 0.6498 - val_loss: 1.3644 - val_accuracy: 0.6246\n",
      "Epoch 34/40\n",
      "782/782 [==============================] - 11s 14ms/step - loss: 1.1688 - accuracy: 0.6541 - val_loss: 1.5263 - val_accuracy: 0.5881\n",
      "Epoch 35/40\n",
      "782/782 [==============================] - 11s 14ms/step - loss: 1.1603 - accuracy: 0.6580 - val_loss: 1.4393 - val_accuracy: 0.6139\n",
      "Epoch 36/40\n",
      "782/782 [==============================] - 11s 14ms/step - loss: 1.1450 - accuracy: 0.6621 - val_loss: 1.3791 - val_accuracy: 0.6262\n",
      "Epoch 37/40\n",
      "782/782 [==============================] - 11s 14ms/step - loss: 1.1251 - accuracy: 0.6657 - val_loss: 1.3824 - val_accuracy: 0.6276\n",
      "Epoch 38/40\n",
      "782/782 [==============================] - 11s 14ms/step - loss: 1.1131 - accuracy: 0.6705 - val_loss: 1.4058 - val_accuracy: 0.6201\n",
      "Epoch 39/40\n",
      "782/782 [==============================] - 11s 14ms/step - loss: 1.1040 - accuracy: 0.6719 - val_loss: 1.3572 - val_accuracy: 0.6329\n",
      "Epoch 40/40\n",
      "782/782 [==============================] - 11s 14ms/step - loss: 1.1064 - accuracy: 0.6733 - val_loss: 1.3920 - val_accuracy: 0.6277\n"
     ]
    }
   ],
   "source": [
    "history = model.fit(x_train, y_train, validation_data = (x_test, y_test), epochs = 40, batch_size = batch_size)"
   ]
  },
  {
   "cell_type": "markdown",
   "id": "e1d5f58a",
   "metadata": {},
   "source": [
    "## Plot results"
   ]
  },
  {
   "cell_type": "code",
   "execution_count": 13,
   "id": "614537a9",
   "metadata": {},
   "outputs": [
    {
     "data": {
      "image/png": "[encoded data removed]",
      "text/plain": [
       "<Figure size 432x288 with 1 Axes>"
      ]
     },
     "metadata": {
      "needs_background": "light"
     },
     "output_type": "display_data"
    }
   ],
   "source": [
    "plt.plot(history.history['loss'])\n",
    "plt.plot(history.history['val_loss'])\n",
    "plt.title('Model Loss')\n",
    "plt.xlabel('Epoch')\n",
    "plt.ylabel('Loss')\n",
    "plt.legend(['train','val'],loc='upper left')\n",
    "plt.show()"
   ]
  },
  {
   "cell_type": "code",
   "execution_count": null,
   "id": "bbe7cf18",
   "metadata": {},
   "outputs": [],
   "source": []
  }
 ],
 "metadata": {
  "kernelspec": {
   "display_name": "Python 3 (ipykernel)",
   "language": "python",
   "name": "python3"
  },
  "language_info": {
   "codemirror_mode": {
    "name": "ipython",
    "version": 3
   },
   "file_extension": ".py",
   "mimetype": "text/x-python",
   "name": "python",
   "nbconvert_exporter": "python",
   "pygments_lexer": "ipython3",
   "version": "3.9.7"
  }
 },
 "nbformat": 4,
 "nbformat_minor": 5
}
