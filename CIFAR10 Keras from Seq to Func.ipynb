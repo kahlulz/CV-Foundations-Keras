{
 "cells": [
  {
   "cell_type": "markdown",
   "metadata": {},
   "source": [
    "# CIFAR10 Keras (From Sequential to Functional)\n",
    "## Setup"
   ]
  },
  {
   "cell_type": "code",
   "execution_count": 1,
   "metadata": {},
   "outputs": [],
   "source": [
    "import numpy as np\n",
    "import tensorflow as tf\n",
    "from tensorflow import keras\n",
    "from tensorflow.keras.models import Model\n",
    "from tensorflow.keras.layers import Input, Dense, Activation, Dropout\n",
    "from tensorflow.keras.utils import to_categorical, plot_model\n",
    "from keras.datasets import cifar10 "
   ]
  },
  {
   "cell_type": "markdown",
   "metadata": {},
   "source": [
    "## Load CIFAR10 Dataset"
   ]
  },
  {
   "cell_type": "code",
   "execution_count": 2,
   "metadata": {},
   "outputs": [],
   "source": [
    "(x_train,y_train),(x_test,y_test)=cifar10.load_data()"
   ]
  },
  {
   "cell_type": "markdown",
   "metadata": {},
   "source": [
    "## Check number of categories present in the dataset"
   ]
  },
  {
   "cell_type": "code",
   "execution_count": 3,
   "metadata": {},
   "outputs": [
    {
     "data": {
      "text/plain": [
       "10"
      ]
     },
     "execution_count": 3,
     "metadata": {},
     "output_type": "execute_result"
    }
   ],
   "source": [
    "num_labels = len(np.unique(y_train)) \n",
    "num_labels # There are 10 categories within y_train"
   ]
  },
  {
   "cell_type": "markdown",
   "metadata": {},
   "source": [
    "## Convert Categories to One-Hot Vectors"
   ]
  },
  {
   "cell_type": "code",
   "execution_count": 4,
   "metadata": {},
   "outputs": [],
   "source": [
    "y_train = to_categorical(y_train)\n",
    "y_test = to_categorical(y_test)"
   ]
  },
  {
   "cell_type": "markdown",
   "metadata": {},
   "source": [
    "## Initialize Input Node"
   ]
  },
  {
   "cell_type": "code",
   "execution_count": 5,
   "metadata": {},
   "outputs": [],
   "source": [
    "image_size = x_train.shape[1]\n",
    "input_size = image_size * image_size * 3\n",
    "# Flatten (or you may also do x = Flatten()(input))\n",
    "x_train = np.reshape(x_train,[-1,input_size])\n",
    "x_test = np.reshape(x_test,[-1,input_size])\n",
    "# Normalize\n",
    "x_train = x_train.astype('float32')/255 # Models perform better when normalized\n",
    "x_test = x_test.astype('float32')/255"
   ]
  },
  {
   "cell_type": "markdown",
   "metadata": {},
   "source": [
    "## Set Hyperparameters"
   ]
  },
  {
   "cell_type": "code",
   "execution_count": 6,
   "metadata": {},
   "outputs": [],
   "source": [
    "batch_size = 128 # Arbitrary (2^n)\n",
    "hidden_units = 256 \n",
    "dropout = 0.45 # Determines the probability of allowing some signals to go thru an activation layer"
   ]
  },
  {
   "cell_type": "markdown",
   "metadata": {},
   "source": [
    "## Build Keras Functional Model"
   ]
  },
  {
   "cell_type": "code",
   "execution_count": 7,
   "metadata": {},
   "outputs": [
    {
     "name": "stdout",
     "output_type": "stream",
     "text": [
      "Model: \"model\"\n",
      "_________________________________________________________________\n",
      " Layer (type)                Output Shape              Param #   \n",
      "=================================================================\n",
      " input_1 (InputLayer)        [(None, 3072)]            0         \n",
      "                                                                 \n",
      " dense (Dense)               (None, 256)               786688    \n",
      "                                                                 \n",
      " dense_1 (Dense)             (None, 256)               65792     \n",
      "                                                                 \n",
      " dense_2 (Dense)             (None, 10)                2570      \n",
      "                                                                 \n",
      "=================================================================\n",
      "Total params: 855,050\n",
      "Trainable params: 855,050\n",
      "Non-trainable params: 0\n",
      "_________________________________________________________________\n"
     ]
    }
   ],
   "source": [
    "model_input = Input(shape=(input_size))\n",
    "model = Dense(hidden_units, activation='relu')(model_input)\n",
    "model = Dense(hidden_units, activation='relu')(model)\n",
    "model_output = Dense(num_labels, activation='softmax')(model)\n",
    "model = keras.Model(inputs=model_input, outputs=model_output)\n",
    "model.summary()"
   ]
  },
  {
   "cell_type": "markdown",
   "metadata": {},
   "source": [
    "## Model Execution and Evaluation"
   ]
  },
  {
   "cell_type": "code",
   "execution_count": 8,
   "metadata": {},
   "outputs": [
    {
     "name": "stdout",
     "output_type": "stream",
     "text": [
      "Epoch 1/40\n",
      "391/391 [==============================] - 4s 6ms/step - loss: 1.8648 - accuracy: 0.3287 - val_loss: 1.7072 - val_accuracy: 0.3891\n",
      "Epoch 2/40\n",
      "391/391 [==============================] - 2s 5ms/step - loss: 1.6739 - accuracy: 0.4009 - val_loss: 1.6276 - val_accuracy: 0.4159\n",
      "Epoch 3/40\n",
      "391/391 [==============================] - 2s 5ms/step - loss: 1.5903 - accuracy: 0.4298 - val_loss: 1.5588 - val_accuracy: 0.4454\n",
      "Epoch 4/40\n",
      "391/391 [==============================] - 2s 5ms/step - loss: 1.5378 - accuracy: 0.4510 - val_loss: 1.5703 - val_accuracy: 0.4385\n",
      "Epoch 5/40\n",
      "391/391 [==============================] - 2s 5ms/step - loss: 1.4893 - accuracy: 0.4674 - val_loss: 1.5150 - val_accuracy: 0.4617\n",
      "Epoch 6/40\n",
      "391/391 [==============================] - 2s 5ms/step - loss: 1.4639 - accuracy: 0.4789 - val_loss: 1.4811 - val_accuracy: 0.4814\n",
      "Epoch 7/40\n",
      "391/391 [==============================] - 2s 5ms/step - loss: 1.4308 - accuracy: 0.4895 - val_loss: 1.4480 - val_accuracy: 0.4789\n",
      "Epoch 8/40\n",
      "391/391 [==============================] - 2s 5ms/step - loss: 1.4010 - accuracy: 0.5016 - val_loss: 1.4644 - val_accuracy: 0.4834\n",
      "Epoch 9/40\n",
      "391/391 [==============================] - 2s 5ms/step - loss: 1.3823 - accuracy: 0.5071 - val_loss: 1.4431 - val_accuracy: 0.4807\n",
      "Epoch 10/40\n",
      "391/391 [==============================] - 2s 5ms/step - loss: 1.3541 - accuracy: 0.5199 - val_loss: 1.4148 - val_accuracy: 0.5003\n",
      "Epoch 11/40\n",
      "391/391 [==============================] - 2s 5ms/step - loss: 1.3381 - accuracy: 0.5257 - val_loss: 1.3968 - val_accuracy: 0.5042\n",
      "Epoch 12/40\n",
      "391/391 [==============================] - 2s 5ms/step - loss: 1.3155 - accuracy: 0.5309 - val_loss: 1.4120 - val_accuracy: 0.5030\n",
      "Epoch 13/40\n",
      "391/391 [==============================] - 2s 5ms/step - loss: 1.2929 - accuracy: 0.5389 - val_loss: 1.4197 - val_accuracy: 0.5007\n",
      "Epoch 14/40\n",
      "391/391 [==============================] - 2s 5ms/step - loss: 1.2846 - accuracy: 0.5440 - val_loss: 1.3953 - val_accuracy: 0.5084\n",
      "Epoch 15/40\n",
      "391/391 [==============================] - 2s 5ms/step - loss: 1.2627 - accuracy: 0.5530 - val_loss: 1.3976 - val_accuracy: 0.5071\n",
      "Epoch 16/40\n",
      "391/391 [==============================] - 2s 5ms/step - loss: 1.2551 - accuracy: 0.5520 - val_loss: 1.3948 - val_accuracy: 0.5100\n",
      "Epoch 17/40\n",
      "391/391 [==============================] - 2s 5ms/step - loss: 1.2315 - accuracy: 0.5636 - val_loss: 1.3935 - val_accuracy: 0.5108\n",
      "Epoch 18/40\n",
      "391/391 [==============================] - 2s 5ms/step - loss: 1.2154 - accuracy: 0.5678 - val_loss: 1.3708 - val_accuracy: 0.5227\n",
      "Epoch 19/40\n",
      "391/391 [==============================] - 2s 5ms/step - loss: 1.2075 - accuracy: 0.5724 - val_loss: 1.3918 - val_accuracy: 0.5073\n",
      "Epoch 20/40\n",
      "391/391 [==============================] - 2s 5ms/step - loss: 1.1953 - accuracy: 0.5745 - val_loss: 1.4285 - val_accuracy: 0.5027\n",
      "Epoch 21/40\n",
      "391/391 [==============================] - 2s 5ms/step - loss: 1.1798 - accuracy: 0.5806 - val_loss: 1.4028 - val_accuracy: 0.5093\n",
      "Epoch 22/40\n",
      "391/391 [==============================] - 2s 5ms/step - loss: 1.1690 - accuracy: 0.5860 - val_loss: 1.4233 - val_accuracy: 0.5089\n",
      "Epoch 23/40\n",
      "391/391 [==============================] - 2s 5ms/step - loss: 1.1554 - accuracy: 0.5886 - val_loss: 1.4154 - val_accuracy: 0.5107\n",
      "Epoch 24/40\n",
      "391/391 [==============================] - 2s 5ms/step - loss: 1.1490 - accuracy: 0.5919 - val_loss: 1.4412 - val_accuracy: 0.5072\n",
      "Epoch 25/40\n",
      "391/391 [==============================] - 2s 5ms/step - loss: 1.1363 - accuracy: 0.5956 - val_loss: 1.4292 - val_accuracy: 0.5085\n",
      "Epoch 26/40\n",
      "391/391 [==============================] - 2s 5ms/step - loss: 1.1212 - accuracy: 0.6010 - val_loss: 1.4183 - val_accuracy: 0.5072\n",
      "Epoch 27/40\n",
      "391/391 [==============================] - 2s 5ms/step - loss: 1.1143 - accuracy: 0.6042 - val_loss: 1.3982 - val_accuracy: 0.5161\n",
      "Epoch 28/40\n",
      "391/391 [==============================] - 2s 5ms/step - loss: 1.1085 - accuracy: 0.6055 - val_loss: 1.3959 - val_accuracy: 0.5187\n",
      "Epoch 29/40\n",
      "391/391 [==============================] - 2s 4ms/step - loss: 1.0973 - accuracy: 0.6098 - val_loss: 1.4484 - val_accuracy: 0.5066\n",
      "Epoch 30/40\n",
      "391/391 [==============================] - 2s 5ms/step - loss: 1.0977 - accuracy: 0.6098 - val_loss: 1.4425 - val_accuracy: 0.5045\n",
      "Epoch 31/40\n",
      "391/391 [==============================] - 2s 5ms/step - loss: 1.0766 - accuracy: 0.6161 - val_loss: 1.3944 - val_accuracy: 0.5212\n",
      "Epoch 32/40\n",
      "391/391 [==============================] - 2s 5ms/step - loss: 1.0785 - accuracy: 0.6151 - val_loss: 1.4150 - val_accuracy: 0.5132\n",
      "Epoch 33/40\n",
      "391/391 [==============================] - 2s 5ms/step - loss: 1.0603 - accuracy: 0.6230 - val_loss: 1.4471 - val_accuracy: 0.5147\n",
      "Epoch 34/40\n",
      "391/391 [==============================] - 2s 5ms/step - loss: 1.0505 - accuracy: 0.6246 - val_loss: 1.4606 - val_accuracy: 0.5122\n",
      "Epoch 35/40\n",
      "391/391 [==============================] - 2s 5ms/step - loss: 1.0525 - accuracy: 0.6242 - val_loss: 1.4418 - val_accuracy: 0.5117\n",
      "Epoch 36/40\n",
      "391/391 [==============================] - 2s 5ms/step - loss: 1.0379 - accuracy: 0.6307 - val_loss: 1.4306 - val_accuracy: 0.5179\n",
      "Epoch 37/40\n",
      "391/391 [==============================] - 2s 5ms/step - loss: 1.0294 - accuracy: 0.6320 - val_loss: 1.4436 - val_accuracy: 0.5150\n",
      "Epoch 38/40\n",
      "391/391 [==============================] - 2s 5ms/step - loss: 1.0215 - accuracy: 0.6374 - val_loss: 1.4456 - val_accuracy: 0.5071\n",
      "Epoch 39/40\n",
      "391/391 [==============================] - 2s 5ms/step - loss: 1.0150 - accuracy: 0.6366 - val_loss: 1.4460 - val_accuracy: 0.5108\n",
      "Epoch 40/40\n",
      "391/391 [==============================] - 2s 5ms/step - loss: 1.0078 - accuracy: 0.6397 - val_loss: 1.4447 - val_accuracy: 0.5179\n",
      "313/313 - 1s - loss: 1.4447 - accuracy: 0.5179 - 705ms/epoch - 2ms/step\n",
      "Test loss: 1.44473397731781\n",
      "Test accuracy: 0.5178999900817871\n"
     ]
    }
   ],
   "source": [
    "model.compile(\n",
    "    loss = 'categorical_crossentropy',\n",
    "    optimizer = 'adam',\n",
    "    metrics = ['accuracy']\n",
    ")\n",
    "\n",
    "history = model.fit(x_train, y_train, validation_data = (x_test, y_test), epochs = 40, batch_size = batch_size)\n",
    "\n",
    "test_scores = model.evaluate(x_test, y_test, verbose = 2)\n",
    "print(\"Test loss:\", test_scores[0])\n",
    "print(\"Test accuracy:\", test_scores[1])"
   ]
  },
  {
   "cell_type": "markdown",
   "metadata": {},
   "source": [
    "## Plotting the Model's Performance"
   ]
  },
  {
   "cell_type": "code",
   "execution_count": 10,
   "metadata": {},
   "outputs": [
    {
     "data": {
      "image/png": "[encoded data removed]",
      "text/plain": [
       "<Figure size 432x288 with 1 Axes>"
      ]
     },
     "metadata": {
      "needs_background": "light"
     },
     "output_type": "display_data"
    }
   ],
   "source": [
    "import matplotlib.pyplot as plt\n",
    "\n",
    "plt.plot(history.history['loss'])\n",
    "plt.plot(history.history['val_loss'])\n",
    "plt.title('Model Loss')\n",
    "plt.xlabel('Epoch')\n",
    "plt.ylabel('Loss')\n",
    "plt.legend(['train','val'],loc='upper left')\n",
    "plt.show()"
   ]
  }
 ],
 "metadata": {
  "kernelspec": {
   "display_name": "WorkEnv",
   "language": "python",
   "name": "python3"
  },
  "language_info": {
   "codemirror_mode": {
    "name": "ipython",
    "version": 3
   },
   "file_extension": ".py",
   "mimetype": "text/x-python",
   "name": "python",
   "nbconvert_exporter": "python",
   "pygments_lexer": "ipython3",
   "version": "3.9.7"
  },
  "orig_nbformat": 4
 },
 "nbformat": 4,
 "nbformat_minor": 2
}
